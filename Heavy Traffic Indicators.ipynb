{
 "cells": [
  {
   "cell_type": "markdown",
   "id": "fa8b80b6",
   "metadata": {},
   "source": [
    "# Finding Heavy Traffic Indicators on I-94\n",
    "### By: Raza Saeed"
   ]
  },
  {
   "cell_type": "markdown",
   "id": "578f33fe",
   "metadata": {},
   "source": [
    "### Purpose\n",
    "* The purpose of this analysis is to see which factors impact the volume of traffic. These factors could include time of day, day of week, weather patterns and more.\n",
    "\n",
    "* The dataset documentation mentions that a station located approximately midway between Minneapolis and Saint Paul recorded westbound traffic data on an hourly basis."
   ]
  },
  {
   "cell_type": "markdown",
   "id": "c864d252",
   "metadata": {},
   "source": [
    "### Import Libraries"
   ]
  },
  {
   "cell_type": "code",
   "execution_count": 32,
   "id": "0e37b576",
   "metadata": {},
   "outputs": [],
   "source": [
    "import numpy as np\n",
    "import pandas as pd\n",
    "import matplotlib.pyplot as plt\n",
    "%matplotlib inline\n",
    "\n",
    "import seaborn as sns\n",
    "sns.set(style='white')\n",
    "\n",
    "# Ignore any warnings\n",
    "import warnings\n",
    "warnings.filterwarnings('ignore')"
   ]
  },
  {
   "cell_type": "markdown",
   "id": "5d88d63c",
   "metadata": {},
   "source": [
    "### Load in Dataset"
   ]
  },
  {
   "cell_type": "code",
   "execution_count": 2,
   "id": "fa7992ce",
   "metadata": {
    "scrolled": true
   },
   "outputs": [
    {
     "data": {
      "text/html": [
       "<div>\n",
       "<style scoped>\n",
       "    .dataframe tbody tr th:only-of-type {\n",
       "        vertical-align: middle;\n",
       "    }\n",
       "\n",
       "    .dataframe tbody tr th {\n",
       "        vertical-align: top;\n",
       "    }\n",
       "\n",
       "    .dataframe thead th {\n",
       "        text-align: right;\n",
       "    }\n",
       "</style>\n",
       "<table border=\"1\" class=\"dataframe\">\n",
       "  <thead>\n",
       "    <tr style=\"text-align: right;\">\n",
       "      <th></th>\n",
       "      <th>holiday</th>\n",
       "      <th>temp</th>\n",
       "      <th>rain_1h</th>\n",
       "      <th>snow_1h</th>\n",
       "      <th>clouds_all</th>\n",
       "      <th>weather_main</th>\n",
       "      <th>weather_description</th>\n",
       "      <th>date_time</th>\n",
       "      <th>traffic_volume</th>\n",
       "    </tr>\n",
       "  </thead>\n",
       "  <tbody>\n",
       "    <tr>\n",
       "      <th>0</th>\n",
       "      <td>None</td>\n",
       "      <td>288.28</td>\n",
       "      <td>0.0</td>\n",
       "      <td>0.0</td>\n",
       "      <td>40</td>\n",
       "      <td>Clouds</td>\n",
       "      <td>scattered clouds</td>\n",
       "      <td>2012-10-02 09:00:00</td>\n",
       "      <td>5545</td>\n",
       "    </tr>\n",
       "    <tr>\n",
       "      <th>1</th>\n",
       "      <td>None</td>\n",
       "      <td>289.36</td>\n",
       "      <td>0.0</td>\n",
       "      <td>0.0</td>\n",
       "      <td>75</td>\n",
       "      <td>Clouds</td>\n",
       "      <td>broken clouds</td>\n",
       "      <td>2012-10-02 10:00:00</td>\n",
       "      <td>4516</td>\n",
       "    </tr>\n",
       "    <tr>\n",
       "      <th>2</th>\n",
       "      <td>None</td>\n",
       "      <td>289.58</td>\n",
       "      <td>0.0</td>\n",
       "      <td>0.0</td>\n",
       "      <td>90</td>\n",
       "      <td>Clouds</td>\n",
       "      <td>overcast clouds</td>\n",
       "      <td>2012-10-02 11:00:00</td>\n",
       "      <td>4767</td>\n",
       "    </tr>\n",
       "    <tr>\n",
       "      <th>3</th>\n",
       "      <td>None</td>\n",
       "      <td>290.13</td>\n",
       "      <td>0.0</td>\n",
       "      <td>0.0</td>\n",
       "      <td>90</td>\n",
       "      <td>Clouds</td>\n",
       "      <td>overcast clouds</td>\n",
       "      <td>2012-10-02 12:00:00</td>\n",
       "      <td>5026</td>\n",
       "    </tr>\n",
       "    <tr>\n",
       "      <th>4</th>\n",
       "      <td>None</td>\n",
       "      <td>291.14</td>\n",
       "      <td>0.0</td>\n",
       "      <td>0.0</td>\n",
       "      <td>75</td>\n",
       "      <td>Clouds</td>\n",
       "      <td>broken clouds</td>\n",
       "      <td>2012-10-02 13:00:00</td>\n",
       "      <td>4918</td>\n",
       "    </tr>\n",
       "  </tbody>\n",
       "</table>\n",
       "</div>"
      ],
      "text/plain": [
       "  holiday    temp  rain_1h  snow_1h  clouds_all weather_main  \\\n",
       "0    None  288.28      0.0      0.0          40       Clouds   \n",
       "1    None  289.36      0.0      0.0          75       Clouds   \n",
       "2    None  289.58      0.0      0.0          90       Clouds   \n",
       "3    None  290.13      0.0      0.0          90       Clouds   \n",
       "4    None  291.14      0.0      0.0          75       Clouds   \n",
       "\n",
       "  weather_description            date_time  traffic_volume  \n",
       "0    scattered clouds  2012-10-02 09:00:00            5545  \n",
       "1       broken clouds  2012-10-02 10:00:00            4516  \n",
       "2     overcast clouds  2012-10-02 11:00:00            4767  \n",
       "3     overcast clouds  2012-10-02 12:00:00            5026  \n",
       "4       broken clouds  2012-10-02 13:00:00            4918  "
      ]
     },
     "execution_count": 2,
     "metadata": {},
     "output_type": "execute_result"
    }
   ],
   "source": [
    "traffic = pd.read_csv('Metro_Interstate_Traffic_Volume.csv')\n",
    "\n",
    "# First 5 Rows\n",
    "traffic.head()"
   ]
  },
  {
   "cell_type": "code",
   "execution_count": 3,
   "id": "b26f3073",
   "metadata": {},
   "outputs": [
    {
     "data": {
      "text/html": [
       "<div>\n",
       "<style scoped>\n",
       "    .dataframe tbody tr th:only-of-type {\n",
       "        vertical-align: middle;\n",
       "    }\n",
       "\n",
       "    .dataframe tbody tr th {\n",
       "        vertical-align: top;\n",
       "    }\n",
       "\n",
       "    .dataframe thead th {\n",
       "        text-align: right;\n",
       "    }\n",
       "</style>\n",
       "<table border=\"1\" class=\"dataframe\">\n",
       "  <thead>\n",
       "    <tr style=\"text-align: right;\">\n",
       "      <th></th>\n",
       "      <th>holiday</th>\n",
       "      <th>temp</th>\n",
       "      <th>rain_1h</th>\n",
       "      <th>snow_1h</th>\n",
       "      <th>clouds_all</th>\n",
       "      <th>weather_main</th>\n",
       "      <th>weather_description</th>\n",
       "      <th>date_time</th>\n",
       "      <th>traffic_volume</th>\n",
       "    </tr>\n",
       "  </thead>\n",
       "  <tbody>\n",
       "    <tr>\n",
       "      <th>48199</th>\n",
       "      <td>None</td>\n",
       "      <td>283.45</td>\n",
       "      <td>0.0</td>\n",
       "      <td>0.0</td>\n",
       "      <td>75</td>\n",
       "      <td>Clouds</td>\n",
       "      <td>broken clouds</td>\n",
       "      <td>2018-09-30 19:00:00</td>\n",
       "      <td>3543</td>\n",
       "    </tr>\n",
       "    <tr>\n",
       "      <th>48200</th>\n",
       "      <td>None</td>\n",
       "      <td>282.76</td>\n",
       "      <td>0.0</td>\n",
       "      <td>0.0</td>\n",
       "      <td>90</td>\n",
       "      <td>Clouds</td>\n",
       "      <td>overcast clouds</td>\n",
       "      <td>2018-09-30 20:00:00</td>\n",
       "      <td>2781</td>\n",
       "    </tr>\n",
       "    <tr>\n",
       "      <th>48201</th>\n",
       "      <td>None</td>\n",
       "      <td>282.73</td>\n",
       "      <td>0.0</td>\n",
       "      <td>0.0</td>\n",
       "      <td>90</td>\n",
       "      <td>Thunderstorm</td>\n",
       "      <td>proximity thunderstorm</td>\n",
       "      <td>2018-09-30 21:00:00</td>\n",
       "      <td>2159</td>\n",
       "    </tr>\n",
       "    <tr>\n",
       "      <th>48202</th>\n",
       "      <td>None</td>\n",
       "      <td>282.09</td>\n",
       "      <td>0.0</td>\n",
       "      <td>0.0</td>\n",
       "      <td>90</td>\n",
       "      <td>Clouds</td>\n",
       "      <td>overcast clouds</td>\n",
       "      <td>2018-09-30 22:00:00</td>\n",
       "      <td>1450</td>\n",
       "    </tr>\n",
       "    <tr>\n",
       "      <th>48203</th>\n",
       "      <td>None</td>\n",
       "      <td>282.12</td>\n",
       "      <td>0.0</td>\n",
       "      <td>0.0</td>\n",
       "      <td>90</td>\n",
       "      <td>Clouds</td>\n",
       "      <td>overcast clouds</td>\n",
       "      <td>2018-09-30 23:00:00</td>\n",
       "      <td>954</td>\n",
       "    </tr>\n",
       "  </tbody>\n",
       "</table>\n",
       "</div>"
      ],
      "text/plain": [
       "      holiday    temp  rain_1h  snow_1h  clouds_all  weather_main  \\\n",
       "48199    None  283.45      0.0      0.0          75        Clouds   \n",
       "48200    None  282.76      0.0      0.0          90        Clouds   \n",
       "48201    None  282.73      0.0      0.0          90  Thunderstorm   \n",
       "48202    None  282.09      0.0      0.0          90        Clouds   \n",
       "48203    None  282.12      0.0      0.0          90        Clouds   \n",
       "\n",
       "          weather_description            date_time  traffic_volume  \n",
       "48199           broken clouds  2018-09-30 19:00:00            3543  \n",
       "48200         overcast clouds  2018-09-30 20:00:00            2781  \n",
       "48201  proximity thunderstorm  2018-09-30 21:00:00            2159  \n",
       "48202         overcast clouds  2018-09-30 22:00:00            1450  \n",
       "48203         overcast clouds  2018-09-30 23:00:00             954  "
      ]
     },
     "execution_count": 3,
     "metadata": {},
     "output_type": "execute_result"
    }
   ],
   "source": [
    "# Last 5 rows\n",
    "traffic.tail()"
   ]
  },
  {
   "cell_type": "markdown",
   "id": "1564e805",
   "metadata": {},
   "source": [
    "#### Observations\n",
    "- Each row represents an hour of data collected by the traffic station\n",
    "- For example the first row represents data for October 12th, 2012 from 9 am to 10 am. During that hour, the temperature was 288 degress kelvin (or 15.13 degress celsius). There was no rain and no snow, but 75% of the sky was covered by clouds. The number of cars that passed the station that hour was 5545."
   ]
  },
  {
   "cell_type": "code",
   "execution_count": 4,
   "id": "06044d99",
   "metadata": {},
   "outputs": [
    {
     "data": {
      "text/plain": [
       "(48204, 9)"
      ]
     },
     "execution_count": 4,
     "metadata": {},
     "output_type": "execute_result"
    }
   ],
   "source": [
    "# How many rows and columns?\n",
    "traffic.shape"
   ]
  },
  {
   "cell_type": "code",
   "execution_count": 5,
   "id": "cc330470",
   "metadata": {},
   "outputs": [
    {
     "name": "stdout",
     "output_type": "stream",
     "text": [
      "<class 'pandas.core.frame.DataFrame'>\n",
      "RangeIndex: 48204 entries, 0 to 48203\n",
      "Data columns (total 9 columns):\n",
      " #   Column               Non-Null Count  Dtype  \n",
      "---  ------               --------------  -----  \n",
      " 0   holiday              48204 non-null  object \n",
      " 1   temp                 48204 non-null  float64\n",
      " 2   rain_1h              48204 non-null  float64\n",
      " 3   snow_1h              48204 non-null  float64\n",
      " 4   clouds_all           48204 non-null  int64  \n",
      " 5   weather_main         48204 non-null  object \n",
      " 6   weather_description  48204 non-null  object \n",
      " 7   date_time            48204 non-null  object \n",
      " 8   traffic_volume       48204 non-null  int64  \n",
      "dtypes: float64(3), int64(2), object(4)\n",
      "memory usage: 3.3+ MB\n"
     ]
    }
   ],
   "source": [
    "traffic.info()"
   ]
  },
  {
   "cell_type": "markdown",
   "id": "ffac9c88",
   "metadata": {},
   "source": [
    "#### Observations\n",
    "- The datset has 48,204 rows and 9 columns\n",
    "- We'll need to convert the date_time column to the date_time data type"
   ]
  },
  {
   "cell_type": "markdown",
   "id": "2de9d60b",
   "metadata": {},
   "source": [
    "#### Below are the descriptions of each column from the documentation:\n",
    "\n",
    "* holiday – US National holidays plus a regional holiday (the Minnesota State Fair)\n",
    "* temp – average temperature in kelvin\n",
    "* rain_1h – the amount in mm of rain per hour\n",
    "* snow_1h – the amount in mm of snow per hour\n",
    "* clouds_all – % of cloud cover\n",
    "* weather_main – a short text description of the current weather\n",
    "* weather_description – a longer text description of the current weather\n",
    "* date_time – the time the data collected in local CST time\n",
    "* traffic_volume – the number of cars that passed the station each hour"
   ]
  },
  {
   "cell_type": "code",
   "execution_count": 6,
   "id": "fc03e051",
   "metadata": {},
   "outputs": [
    {
     "data": {
      "text/html": [
       "<div>\n",
       "<style scoped>\n",
       "    .dataframe tbody tr th:only-of-type {\n",
       "        vertical-align: middle;\n",
       "    }\n",
       "\n",
       "    .dataframe tbody tr th {\n",
       "        vertical-align: top;\n",
       "    }\n",
       "\n",
       "    .dataframe thead th {\n",
       "        text-align: right;\n",
       "    }\n",
       "</style>\n",
       "<table border=\"1\" class=\"dataframe\">\n",
       "  <thead>\n",
       "    <tr style=\"text-align: right;\">\n",
       "      <th></th>\n",
       "      <th>mean</th>\n",
       "      <th>std</th>\n",
       "      <th>min</th>\n",
       "      <th>25%</th>\n",
       "      <th>50%</th>\n",
       "      <th>75%</th>\n",
       "      <th>max</th>\n",
       "    </tr>\n",
       "  </thead>\n",
       "  <tbody>\n",
       "    <tr>\n",
       "      <th>temp</th>\n",
       "      <td>281.21</td>\n",
       "      <td>13.34</td>\n",
       "      <td>0.0</td>\n",
       "      <td>272.16</td>\n",
       "      <td>282.45</td>\n",
       "      <td>291.81</td>\n",
       "      <td>310.07</td>\n",
       "    </tr>\n",
       "    <tr>\n",
       "      <th>rain_1h</th>\n",
       "      <td>0.33</td>\n",
       "      <td>44.79</td>\n",
       "      <td>0.0</td>\n",
       "      <td>0.00</td>\n",
       "      <td>0.00</td>\n",
       "      <td>0.00</td>\n",
       "      <td>9831.30</td>\n",
       "    </tr>\n",
       "    <tr>\n",
       "      <th>snow_1h</th>\n",
       "      <td>0.00</td>\n",
       "      <td>0.01</td>\n",
       "      <td>0.0</td>\n",
       "      <td>0.00</td>\n",
       "      <td>0.00</td>\n",
       "      <td>0.00</td>\n",
       "      <td>0.51</td>\n",
       "    </tr>\n",
       "    <tr>\n",
       "      <th>clouds_all</th>\n",
       "      <td>49.36</td>\n",
       "      <td>39.02</td>\n",
       "      <td>0.0</td>\n",
       "      <td>1.00</td>\n",
       "      <td>64.00</td>\n",
       "      <td>90.00</td>\n",
       "      <td>100.00</td>\n",
       "    </tr>\n",
       "    <tr>\n",
       "      <th>traffic_volume</th>\n",
       "      <td>3259.82</td>\n",
       "      <td>1986.86</td>\n",
       "      <td>0.0</td>\n",
       "      <td>1193.00</td>\n",
       "      <td>3380.00</td>\n",
       "      <td>4933.00</td>\n",
       "      <td>7280.00</td>\n",
       "    </tr>\n",
       "  </tbody>\n",
       "</table>\n",
       "</div>"
      ],
      "text/plain": [
       "                   mean      std  min      25%      50%      75%      max\n",
       "temp             281.21    13.34  0.0   272.16   282.45   291.81   310.07\n",
       "rain_1h            0.33    44.79  0.0     0.00     0.00     0.00  9831.30\n",
       "snow_1h            0.00     0.01  0.0     0.00     0.00     0.00     0.51\n",
       "clouds_all        49.36    39.02  0.0     1.00    64.00    90.00   100.00\n",
       "traffic_volume  3259.82  1986.86  0.0  1193.00  3380.00  4933.00  7280.00"
      ]
     },
     "execution_count": 6,
     "metadata": {},
     "output_type": "execute_result"
    }
   ],
   "source": [
    "# Statistics for numerical data\n",
    "traffic.describe().round(2).T.drop(columns=['count'])"
   ]
  },
  {
   "cell_type": "code",
   "execution_count": 7,
   "id": "b59082ad",
   "metadata": {},
   "outputs": [
    {
     "data": {
      "text/html": [
       "<div>\n",
       "<style scoped>\n",
       "    .dataframe tbody tr th:only-of-type {\n",
       "        vertical-align: middle;\n",
       "    }\n",
       "\n",
       "    .dataframe tbody tr th {\n",
       "        vertical-align: top;\n",
       "    }\n",
       "\n",
       "    .dataframe thead th {\n",
       "        text-align: right;\n",
       "    }\n",
       "</style>\n",
       "<table border=\"1\" class=\"dataframe\">\n",
       "  <thead>\n",
       "    <tr style=\"text-align: right;\">\n",
       "      <th></th>\n",
       "      <th>unique</th>\n",
       "      <th>top</th>\n",
       "      <th>freq</th>\n",
       "    </tr>\n",
       "  </thead>\n",
       "  <tbody>\n",
       "    <tr>\n",
       "      <th>holiday</th>\n",
       "      <td>12</td>\n",
       "      <td>None</td>\n",
       "      <td>48143</td>\n",
       "    </tr>\n",
       "    <tr>\n",
       "      <th>weather_main</th>\n",
       "      <td>11</td>\n",
       "      <td>Clouds</td>\n",
       "      <td>15164</td>\n",
       "    </tr>\n",
       "    <tr>\n",
       "      <th>weather_description</th>\n",
       "      <td>38</td>\n",
       "      <td>sky is clear</td>\n",
       "      <td>11665</td>\n",
       "    </tr>\n",
       "    <tr>\n",
       "      <th>date_time</th>\n",
       "      <td>40575</td>\n",
       "      <td>2013-05-19 10:00:00</td>\n",
       "      <td>6</td>\n",
       "    </tr>\n",
       "  </tbody>\n",
       "</table>\n",
       "</div>"
      ],
      "text/plain": [
       "                    unique                  top   freq\n",
       "holiday                 12                 None  48143\n",
       "weather_main            11               Clouds  15164\n",
       "weather_description     38         sky is clear  11665\n",
       "date_time            40575  2013-05-19 10:00:00      6"
      ]
     },
     "execution_count": 7,
     "metadata": {},
     "output_type": "execute_result"
    }
   ],
   "source": [
    "# Statistics for categorical data\n",
    "traffic.describe(include=['O']).T.drop(columns=['count'])"
   ]
  },
  {
   "cell_type": "markdown",
   "id": "fb9a7289",
   "metadata": {},
   "source": [
    "### Traffic Volume"
   ]
  },
  {
   "cell_type": "code",
   "execution_count": 8,
   "id": "59af6fe3",
   "metadata": {},
   "outputs": [
    {
     "data": {
      "text/plain": [
       "(-7.281000000000001, 728.0]    8095\n",
       "(4368.0, 5096.0]               7886\n",
       "(5096.0, 5824.0]               5634\n",
       "(728.0, 1456.0]                5100\n",
       "(2184.0, 2912.0]               4765\n",
       "(2912.0, 3640.0]               4761\n",
       "(3640.0, 4368.0]               4349\n",
       "(5824.0, 6552.0]               3854\n",
       "(1456.0, 2184.0]               2835\n",
       "(6552.0, 7280.0]                925\n",
       "Name: traffic_volume, dtype: int64"
      ]
     },
     "execution_count": 8,
     "metadata": {},
     "output_type": "execute_result"
    }
   ],
   "source": [
    "traffic['traffic_volume'].value_counts(bins=10)"
   ]
  },
  {
   "cell_type": "code",
   "execution_count": 9,
   "id": "edb71832",
   "metadata": {},
   "outputs": [
    {
     "data": {
      "image/png": "[encoded data removed]",
      "text/plain": [
       "<Figure size 576x360 with 1 Axes>"
      ]
     },
     "metadata": {},
     "output_type": "display_data"
    }
   ],
   "source": [
    "# Plot Traffic Volume\n",
    "count, bin_edges = np.histogram(traffic['traffic_volume'])\n",
    "\n",
    "plt.figure(figsize=(8,5))\n",
    "traffic['traffic_volume'].plot.hist(xticks=bin_edges)\n",
    "plt.xlabel('Traffic Volume by Hour')\n",
    "plt.grid(axis='y')\n",
    "plt.show()"
   ]
  },
  {
   "cell_type": "markdown",
   "id": "d4fb587c",
   "metadata": {},
   "source": [
    "#### Observations\n",
    "- The most frequent traffic volume range is between 0 and 728 cars with over 8000 occurrences.\n",
    "- The next most frequent traffic volume range is between 4368 to 5096 cars with just under 8000 occurences.\n",
    "- The average traffic volume is 3260 cars per hour.\n",
    "- About 25% of the time, 1193 or fewer cars pass the station each hour.\n",
    "- About 25% of the time, 4933 or more cars pass the station each hour."
   ]
  },
  {
   "cell_type": "markdown",
   "id": "5132c8cf",
   "metadata": {},
   "source": [
    "#### Split dataframe into day and night"
   ]
  },
  {
   "cell_type": "code",
   "execution_count": 11,
   "id": "6b197f56",
   "metadata": {},
   "outputs": [],
   "source": [
    "# Convert to datetime\n",
    "traffic['date_time'] = pd.to_datetime(traffic['date_time'])"
   ]
  },
  {
   "cell_type": "code",
   "execution_count": 12,
   "id": "362a9755",
   "metadata": {},
   "outputs": [
    {
     "data": {
      "text/html": [
       "<div>\n",
       "<style scoped>\n",
       "    .dataframe tbody tr th:only-of-type {\n",
       "        vertical-align: middle;\n",
       "    }\n",
       "\n",
       "    .dataframe tbody tr th {\n",
       "        vertical-align: top;\n",
       "    }\n",
       "\n",
       "    .dataframe thead th {\n",
       "        text-align: right;\n",
       "    }\n",
       "</style>\n",
       "<table border=\"1\" class=\"dataframe\">\n",
       "  <thead>\n",
       "    <tr style=\"text-align: right;\">\n",
       "      <th></th>\n",
       "      <th>holiday</th>\n",
       "      <th>temp</th>\n",
       "      <th>rain_1h</th>\n",
       "      <th>snow_1h</th>\n",
       "      <th>clouds_all</th>\n",
       "      <th>weather_main</th>\n",
       "      <th>weather_description</th>\n",
       "      <th>date_time</th>\n",
       "      <th>traffic_volume</th>\n",
       "    </tr>\n",
       "  </thead>\n",
       "  <tbody>\n",
       "    <tr>\n",
       "      <th>0</th>\n",
       "      <td>None</td>\n",
       "      <td>288.28</td>\n",
       "      <td>0.0</td>\n",
       "      <td>0.0</td>\n",
       "      <td>40</td>\n",
       "      <td>Clouds</td>\n",
       "      <td>scattered clouds</td>\n",
       "      <td>2012-10-02 09:00:00</td>\n",
       "      <td>5545</td>\n",
       "    </tr>\n",
       "    <tr>\n",
       "      <th>1</th>\n",
       "      <td>None</td>\n",
       "      <td>289.36</td>\n",
       "      <td>0.0</td>\n",
       "      <td>0.0</td>\n",
       "      <td>75</td>\n",
       "      <td>Clouds</td>\n",
       "      <td>broken clouds</td>\n",
       "      <td>2012-10-02 10:00:00</td>\n",
       "      <td>4516</td>\n",
       "    </tr>\n",
       "    <tr>\n",
       "      <th>2</th>\n",
       "      <td>None</td>\n",
       "      <td>289.58</td>\n",
       "      <td>0.0</td>\n",
       "      <td>0.0</td>\n",
       "      <td>90</td>\n",
       "      <td>Clouds</td>\n",
       "      <td>overcast clouds</td>\n",
       "      <td>2012-10-02 11:00:00</td>\n",
       "      <td>4767</td>\n",
       "    </tr>\n",
       "    <tr>\n",
       "      <th>3</th>\n",
       "      <td>None</td>\n",
       "      <td>290.13</td>\n",
       "      <td>0.0</td>\n",
       "      <td>0.0</td>\n",
       "      <td>90</td>\n",
       "      <td>Clouds</td>\n",
       "      <td>overcast clouds</td>\n",
       "      <td>2012-10-02 12:00:00</td>\n",
       "      <td>5026</td>\n",
       "    </tr>\n",
       "    <tr>\n",
       "      <th>4</th>\n",
       "      <td>None</td>\n",
       "      <td>291.14</td>\n",
       "      <td>0.0</td>\n",
       "      <td>0.0</td>\n",
       "      <td>75</td>\n",
       "      <td>Clouds</td>\n",
       "      <td>broken clouds</td>\n",
       "      <td>2012-10-02 13:00:00</td>\n",
       "      <td>4918</td>\n",
       "    </tr>\n",
       "  </tbody>\n",
       "</table>\n",
       "</div>"
      ],
      "text/plain": [
       "  holiday    temp  rain_1h  snow_1h  clouds_all weather_main  \\\n",
       "0    None  288.28      0.0      0.0          40       Clouds   \n",
       "1    None  289.36      0.0      0.0          75       Clouds   \n",
       "2    None  289.58      0.0      0.0          90       Clouds   \n",
       "3    None  290.13      0.0      0.0          90       Clouds   \n",
       "4    None  291.14      0.0      0.0          75       Clouds   \n",
       "\n",
       "  weather_description           date_time  traffic_volume  \n",
       "0    scattered clouds 2012-10-02 09:00:00            5545  \n",
       "1       broken clouds 2012-10-02 10:00:00            4516  \n",
       "2     overcast clouds 2012-10-02 11:00:00            4767  \n",
       "3     overcast clouds 2012-10-02 12:00:00            5026  \n",
       "4       broken clouds 2012-10-02 13:00:00            4918  "
      ]
     },
     "execution_count": 12,
     "metadata": {},
     "output_type": "execute_result"
    }
   ],
   "source": [
    "# Day will be between 7 am and 7 pm \n",
    "day = traffic[(traffic['date_time'].dt.hour >= 7) & (traffic['date_time'].dt.hour < 19)]\n",
    "\n",
    "day.head()"
   ]
  },
  {
   "cell_type": "code",
   "execution_count": 13,
   "id": "56b00c91",
   "metadata": {},
   "outputs": [
    {
     "data": {
      "text/html": [
       "<div>\n",
       "<style scoped>\n",
       "    .dataframe tbody tr th:only-of-type {\n",
       "        vertical-align: middle;\n",
       "    }\n",
       "\n",
       "    .dataframe tbody tr th {\n",
       "        vertical-align: top;\n",
       "    }\n",
       "\n",
       "    .dataframe thead th {\n",
       "        text-align: right;\n",
       "    }\n",
       "</style>\n",
       "<table border=\"1\" class=\"dataframe\">\n",
       "  <thead>\n",
       "    <tr style=\"text-align: right;\">\n",
       "      <th></th>\n",
       "      <th>holiday</th>\n",
       "      <th>temp</th>\n",
       "      <th>rain_1h</th>\n",
       "      <th>snow_1h</th>\n",
       "      <th>clouds_all</th>\n",
       "      <th>weather_main</th>\n",
       "      <th>weather_description</th>\n",
       "      <th>date_time</th>\n",
       "      <th>traffic_volume</th>\n",
       "    </tr>\n",
       "  </thead>\n",
       "  <tbody>\n",
       "    <tr>\n",
       "      <th>10</th>\n",
       "      <td>None</td>\n",
       "      <td>290.97</td>\n",
       "      <td>0.0</td>\n",
       "      <td>0.0</td>\n",
       "      <td>20</td>\n",
       "      <td>Clouds</td>\n",
       "      <td>few clouds</td>\n",
       "      <td>2012-10-02 19:00:00</td>\n",
       "      <td>3539</td>\n",
       "    </tr>\n",
       "    <tr>\n",
       "      <th>11</th>\n",
       "      <td>None</td>\n",
       "      <td>289.38</td>\n",
       "      <td>0.0</td>\n",
       "      <td>0.0</td>\n",
       "      <td>1</td>\n",
       "      <td>Clear</td>\n",
       "      <td>sky is clear</td>\n",
       "      <td>2012-10-02 20:00:00</td>\n",
       "      <td>2784</td>\n",
       "    </tr>\n",
       "    <tr>\n",
       "      <th>12</th>\n",
       "      <td>None</td>\n",
       "      <td>288.61</td>\n",
       "      <td>0.0</td>\n",
       "      <td>0.0</td>\n",
       "      <td>1</td>\n",
       "      <td>Clear</td>\n",
       "      <td>sky is clear</td>\n",
       "      <td>2012-10-02 21:00:00</td>\n",
       "      <td>2361</td>\n",
       "    </tr>\n",
       "    <tr>\n",
       "      <th>13</th>\n",
       "      <td>None</td>\n",
       "      <td>287.16</td>\n",
       "      <td>0.0</td>\n",
       "      <td>0.0</td>\n",
       "      <td>1</td>\n",
       "      <td>Clear</td>\n",
       "      <td>sky is clear</td>\n",
       "      <td>2012-10-02 22:00:00</td>\n",
       "      <td>1529</td>\n",
       "    </tr>\n",
       "    <tr>\n",
       "      <th>14</th>\n",
       "      <td>None</td>\n",
       "      <td>285.45</td>\n",
       "      <td>0.0</td>\n",
       "      <td>0.0</td>\n",
       "      <td>1</td>\n",
       "      <td>Clear</td>\n",
       "      <td>sky is clear</td>\n",
       "      <td>2012-10-02 23:00:00</td>\n",
       "      <td>963</td>\n",
       "    </tr>\n",
       "  </tbody>\n",
       "</table>\n",
       "</div>"
      ],
      "text/plain": [
       "   holiday    temp  rain_1h  snow_1h  clouds_all weather_main  \\\n",
       "10    None  290.97      0.0      0.0          20       Clouds   \n",
       "11    None  289.38      0.0      0.0           1        Clear   \n",
       "12    None  288.61      0.0      0.0           1        Clear   \n",
       "13    None  287.16      0.0      0.0           1        Clear   \n",
       "14    None  285.45      0.0      0.0           1        Clear   \n",
       "\n",
       "   weather_description           date_time  traffic_volume  \n",
       "10          few clouds 2012-10-02 19:00:00            3539  \n",
       "11        sky is clear 2012-10-02 20:00:00            2784  \n",
       "12        sky is clear 2012-10-02 21:00:00            2361  \n",
       "13        sky is clear 2012-10-02 22:00:00            1529  \n",
       "14        sky is clear 2012-10-02 23:00:00             963  "
      ]
     },
     "execution_count": 13,
     "metadata": {},
     "output_type": "execute_result"
    }
   ],
   "source": [
    "# Night will be between 7 pm and 7 am\n",
    "night = traffic[(traffic['date_time'].dt.hour < 7) | (traffic['date_time'].dt.hour >= 19)]\n",
    "\n",
    "night.head()"
   ]
  },
  {
   "cell_type": "code",
   "execution_count": 14,
   "id": "1920f8cc",
   "metadata": {},
   "outputs": [
    {
     "data": {
      "image/png": "[encoded data removed]",
      "text/plain": [
       "<Figure size 1008x288 with 2 Axes>"
      ]
     },
     "metadata": {},
     "output_type": "display_data"
    }
   ],
   "source": [
    "# Plot day and night traffic volume seperately\n",
    "plt.figure(figsize=(14,4))\n",
    "\n",
    "plt.subplot(1, 2, 1)\n",
    "plt.hist(day['traffic_volume'])\n",
    "plt.title('Daytime Traffic Volume')\n",
    "plt.xlabel('Traffic Volume')\n",
    "plt.ylabel('Frequency')\n",
    "plt.xlim(-100, 7500)\n",
    "plt.ylim(0, 8000)\n",
    "plt.grid()\n",
    "\n",
    "plt.subplot(1, 2, 2)\n",
    "plt.hist(night['traffic_volume'])\n",
    "plt.title('Nighttime Traffic Volume')\n",
    "plt.xlabel('Traffic Volume')\n",
    "plt.ylabel('Frequency')\n",
    "plt.xlim(-100, 7500)\n",
    "plt.ylim(0, 8000)\n",
    "plt.grid()\n",
    "\n",
    "plt.show()"
   ]
  },
  {
   "cell_type": "code",
   "execution_count": 15,
   "id": "ea931958",
   "metadata": {},
   "outputs": [
    {
     "name": "stdout",
     "output_type": "stream",
     "text": [
      "4762.047451522386\n",
      "1785.377440703745\n"
     ]
    }
   ],
   "source": [
    "# Average Traffic Volume (Daytime vs Nighttime)\n",
    "print(day['traffic_volume'].mean())\n",
    "print(night['traffic_volume'].mean())"
   ]
  },
  {
   "cell_type": "code",
   "execution_count": 55,
   "id": "8a7d6455",
   "metadata": {},
   "outputs": [
    {
     "data": {
      "text/plain": [
       "2.67"
      ]
     },
     "execution_count": 55,
     "metadata": {},
     "output_type": "execute_result"
    }
   ],
   "source": [
    "day_mean = day['traffic_volume'].mean()\n",
    "night_mean = night['traffic_volume'].mean()\n",
    "\n",
    "round(day_mean / night_mean, 2)"
   ]
  },
  {
   "cell_type": "markdown",
   "id": "c9bc881c",
   "metadata": {},
   "source": [
    "#### Observations\n",
    "- The average traffic volume during the day is 4762 cars, while the average traffic volume during the night is only 1785 cars.\n",
    "- The average hourly traffic volume during the day is almost 3000 more cars than during the night. \n",
    "- The average hourly traffic volume during the day is 2.67 times more than during the night."
   ]
  },
  {
   "cell_type": "markdown",
   "id": "bb7c07d9",
   "metadata": {},
   "source": [
    "#### I will be using the \"day\" data to do my analysis due to significant difference in traffic volume."
   ]
  },
  {
   "cell_type": "markdown",
   "id": "00ed8474",
   "metadata": {},
   "source": [
    "### Traffic Volume by Month"
   ]
  },
  {
   "cell_type": "code",
   "execution_count": 33,
   "id": "5f4cdf59",
   "metadata": {},
   "outputs": [
    {
     "data": {
      "text/html": [
       "<div>\n",
       "<style scoped>\n",
       "    .dataframe tbody tr th:only-of-type {\n",
       "        vertical-align: middle;\n",
       "    }\n",
       "\n",
       "    .dataframe tbody tr th {\n",
       "        vertical-align: top;\n",
       "    }\n",
       "\n",
       "    .dataframe thead th {\n",
       "        text-align: right;\n",
       "    }\n",
       "</style>\n",
       "<table border=\"1\" class=\"dataframe\">\n",
       "  <thead>\n",
       "    <tr style=\"text-align: right;\">\n",
       "      <th></th>\n",
       "      <th>holiday</th>\n",
       "      <th>temp</th>\n",
       "      <th>rain_1h</th>\n",
       "      <th>snow_1h</th>\n",
       "      <th>clouds_all</th>\n",
       "      <th>weather_main</th>\n",
       "      <th>weather_description</th>\n",
       "      <th>date_time</th>\n",
       "      <th>traffic_volume</th>\n",
       "      <th>month</th>\n",
       "      <th>year</th>\n",
       "      <th>dayofweek</th>\n",
       "    </tr>\n",
       "  </thead>\n",
       "  <tbody>\n",
       "    <tr>\n",
       "      <th>0</th>\n",
       "      <td>None</td>\n",
       "      <td>288.28</td>\n",
       "      <td>0.0</td>\n",
       "      <td>0.0</td>\n",
       "      <td>40</td>\n",
       "      <td>Clouds</td>\n",
       "      <td>scattered clouds</td>\n",
       "      <td>2012-10-02 09:00:00</td>\n",
       "      <td>5545</td>\n",
       "      <td>10</td>\n",
       "      <td>2012</td>\n",
       "      <td>1</td>\n",
       "    </tr>\n",
       "    <tr>\n",
       "      <th>1</th>\n",
       "      <td>None</td>\n",
       "      <td>289.36</td>\n",
       "      <td>0.0</td>\n",
       "      <td>0.0</td>\n",
       "      <td>75</td>\n",
       "      <td>Clouds</td>\n",
       "      <td>broken clouds</td>\n",
       "      <td>2012-10-02 10:00:00</td>\n",
       "      <td>4516</td>\n",
       "      <td>10</td>\n",
       "      <td>2012</td>\n",
       "      <td>1</td>\n",
       "    </tr>\n",
       "    <tr>\n",
       "      <th>2</th>\n",
       "      <td>None</td>\n",
       "      <td>289.58</td>\n",
       "      <td>0.0</td>\n",
       "      <td>0.0</td>\n",
       "      <td>90</td>\n",
       "      <td>Clouds</td>\n",
       "      <td>overcast clouds</td>\n",
       "      <td>2012-10-02 11:00:00</td>\n",
       "      <td>4767</td>\n",
       "      <td>10</td>\n",
       "      <td>2012</td>\n",
       "      <td>1</td>\n",
       "    </tr>\n",
       "    <tr>\n",
       "      <th>3</th>\n",
       "      <td>None</td>\n",
       "      <td>290.13</td>\n",
       "      <td>0.0</td>\n",
       "      <td>0.0</td>\n",
       "      <td>90</td>\n",
       "      <td>Clouds</td>\n",
       "      <td>overcast clouds</td>\n",
       "      <td>2012-10-02 12:00:00</td>\n",
       "      <td>5026</td>\n",
       "      <td>10</td>\n",
       "      <td>2012</td>\n",
       "      <td>1</td>\n",
       "    </tr>\n",
       "    <tr>\n",
       "      <th>4</th>\n",
       "      <td>None</td>\n",
       "      <td>291.14</td>\n",
       "      <td>0.0</td>\n",
       "      <td>0.0</td>\n",
       "      <td>75</td>\n",
       "      <td>Clouds</td>\n",
       "      <td>broken clouds</td>\n",
       "      <td>2012-10-02 13:00:00</td>\n",
       "      <td>4918</td>\n",
       "      <td>10</td>\n",
       "      <td>2012</td>\n",
       "      <td>1</td>\n",
       "    </tr>\n",
       "  </tbody>\n",
       "</table>\n",
       "</div>"
      ],
      "text/plain": [
       "  holiday    temp  rain_1h  snow_1h  clouds_all weather_main  \\\n",
       "0    None  288.28      0.0      0.0          40       Clouds   \n",
       "1    None  289.36      0.0      0.0          75       Clouds   \n",
       "2    None  289.58      0.0      0.0          90       Clouds   \n",
       "3    None  290.13      0.0      0.0          90       Clouds   \n",
       "4    None  291.14      0.0      0.0          75       Clouds   \n",
       "\n",
       "  weather_description           date_time  traffic_volume  month  year  \\\n",
       "0    scattered clouds 2012-10-02 09:00:00            5545     10  2012   \n",
       "1       broken clouds 2012-10-02 10:00:00            4516     10  2012   \n",
       "2     overcast clouds 2012-10-02 11:00:00            4767     10  2012   \n",
       "3     overcast clouds 2012-10-02 12:00:00            5026     10  2012   \n",
       "4       broken clouds 2012-10-02 13:00:00            4918     10  2012   \n",
       "\n",
       "   dayofweek  \n",
       "0          1  \n",
       "1          1  \n",
       "2          1  \n",
       "3          1  \n",
       "4          1  "
      ]
     },
     "execution_count": 33,
     "metadata": {},
     "output_type": "execute_result"
    }
   ],
   "source": [
    "# Extract Month from date_time column\n",
    "day['month'] = day['date_time'].dt.month\n",
    "\n",
    "day.head()"
   ]
  },
  {
   "cell_type": "code",
   "execution_count": 59,
   "id": "49823029",
   "metadata": {},
   "outputs": [
    {
     "data": {
      "text/plain": [
       "month\n",
       "1     4495.613727\n",
       "2     4711.198394\n",
       "3     4889.409560\n",
       "4     4906.894305\n",
       "5     4911.121609\n",
       "6     4898.019566\n",
       "7     4595.035744\n",
       "8     4928.302035\n",
       "9     4870.783145\n",
       "10    4921.234922\n",
       "11    4704.094319\n",
       "12    4374.834566\n",
       "Name: traffic_volume, dtype: float64"
      ]
     },
     "execution_count": 59,
     "metadata": {},
     "output_type": "execute_result"
    }
   ],
   "source": [
    "by_month = day.groupby('month').mean()\n",
    "\n",
    "# Average traffic volume by month\n",
    "by_month['traffic_volume']"
   ]
  },
  {
   "cell_type": "code",
   "execution_count": 19,
   "id": "ff4b450a",
   "metadata": {},
   "outputs": [
    {
     "data": {
      "image/png": "[encoded data removed]",
      "text/plain": [
       "<Figure size 576x288 with 1 Axes>"
      ]
     },
     "metadata": {},
     "output_type": "display_data"
    }
   ],
   "source": [
    "# Plot average traffic volume by month\n",
    "plt.figure(figsize=(8,4))\n",
    "by_month['traffic_volume'].plot(marker='o')\n",
    "plt.xticks(np.arange(0,13,1))\n",
    "plt.title('Average Hourly Traffic Volume by Month')\n",
    "plt.ylabel('Traffic Volume')\n",
    "plt.grid()\n",
    "plt.show()"
   ]
  },
  {
   "cell_type": "markdown",
   "id": "f6c4f218",
   "metadata": {},
   "source": [
    "#### Obseravation"
   ]
  },
  {
   "cell_type": "markdown",
   "id": "902af972",
   "metadata": {},
   "source": [
    "* There is a steep decline in traffic volume in July, let's find out why."
   ]
  },
  {
   "cell_type": "code",
   "execution_count": 34,
   "id": "74d149d1",
   "metadata": {},
   "outputs": [],
   "source": [
    "# Create a year column\n",
    "day['year'] = day['date_time'].dt.year"
   ]
  },
  {
   "cell_type": "code",
   "execution_count": 28,
   "id": "bbe44c93",
   "metadata": {},
   "outputs": [
    {
     "data": {
      "text/html": [
       "<div>\n",
       "<style scoped>\n",
       "    .dataframe tbody tr th:only-of-type {\n",
       "        vertical-align: middle;\n",
       "    }\n",
       "\n",
       "    .dataframe tbody tr th {\n",
       "        vertical-align: top;\n",
       "    }\n",
       "\n",
       "    .dataframe thead th {\n",
       "        text-align: right;\n",
       "    }\n",
       "</style>\n",
       "<table border=\"1\" class=\"dataframe\">\n",
       "  <thead>\n",
       "    <tr style=\"text-align: right;\">\n",
       "      <th></th>\n",
       "      <th>holiday</th>\n",
       "      <th>temp</th>\n",
       "      <th>rain_1h</th>\n",
       "      <th>snow_1h</th>\n",
       "      <th>clouds_all</th>\n",
       "      <th>weather_main</th>\n",
       "      <th>weather_description</th>\n",
       "      <th>date_time</th>\n",
       "      <th>traffic_volume</th>\n",
       "      <th>month</th>\n",
       "      <th>year</th>\n",
       "    </tr>\n",
       "  </thead>\n",
       "  <tbody>\n",
       "    <tr>\n",
       "      <th>7350</th>\n",
       "      <td>None</td>\n",
       "      <td>289.15</td>\n",
       "      <td>0.0</td>\n",
       "      <td>0.0</td>\n",
       "      <td>75</td>\n",
       "      <td>Clouds</td>\n",
       "      <td>broken clouds</td>\n",
       "      <td>2013-07-01 07:00:00</td>\n",
       "      <td>6783</td>\n",
       "      <td>7</td>\n",
       "      <td>2013</td>\n",
       "    </tr>\n",
       "    <tr>\n",
       "      <th>7351</th>\n",
       "      <td>None</td>\n",
       "      <td>291.59</td>\n",
       "      <td>0.0</td>\n",
       "      <td>0.0</td>\n",
       "      <td>1</td>\n",
       "      <td>Clear</td>\n",
       "      <td>sky is clear</td>\n",
       "      <td>2013-07-01 08:00:00</td>\n",
       "      <td>5742</td>\n",
       "      <td>7</td>\n",
       "      <td>2013</td>\n",
       "    </tr>\n",
       "    <tr>\n",
       "      <th>7352</th>\n",
       "      <td>None</td>\n",
       "      <td>294.15</td>\n",
       "      <td>0.0</td>\n",
       "      <td>0.0</td>\n",
       "      <td>1</td>\n",
       "      <td>Clear</td>\n",
       "      <td>sky is clear</td>\n",
       "      <td>2013-07-01 09:00:00</td>\n",
       "      <td>4764</td>\n",
       "      <td>7</td>\n",
       "      <td>2013</td>\n",
       "    </tr>\n",
       "    <tr>\n",
       "      <th>7353</th>\n",
       "      <td>None</td>\n",
       "      <td>295.60</td>\n",
       "      <td>0.0</td>\n",
       "      <td>0.0</td>\n",
       "      <td>1</td>\n",
       "      <td>Clear</td>\n",
       "      <td>sky is clear</td>\n",
       "      <td>2013-07-01 10:00:00</td>\n",
       "      <td>4669</td>\n",
       "      <td>7</td>\n",
       "      <td>2013</td>\n",
       "    </tr>\n",
       "    <tr>\n",
       "      <th>7354</th>\n",
       "      <td>None</td>\n",
       "      <td>297.15</td>\n",
       "      <td>0.0</td>\n",
       "      <td>0.0</td>\n",
       "      <td>1</td>\n",
       "      <td>Clear</td>\n",
       "      <td>sky is clear</td>\n",
       "      <td>2013-07-01 11:00:00</td>\n",
       "      <td>4863</td>\n",
       "      <td>7</td>\n",
       "      <td>2013</td>\n",
       "    </tr>\n",
       "  </tbody>\n",
       "</table>\n",
       "</div>"
      ],
      "text/plain": [
       "     holiday    temp  rain_1h  snow_1h  clouds_all weather_main  \\\n",
       "7350    None  289.15      0.0      0.0          75       Clouds   \n",
       "7351    None  291.59      0.0      0.0           1        Clear   \n",
       "7352    None  294.15      0.0      0.0           1        Clear   \n",
       "7353    None  295.60      0.0      0.0           1        Clear   \n",
       "7354    None  297.15      0.0      0.0           1        Clear   \n",
       "\n",
       "     weather_description           date_time  traffic_volume  month  year  \n",
       "7350       broken clouds 2013-07-01 07:00:00            6783      7  2013  \n",
       "7351        sky is clear 2013-07-01 08:00:00            5742      7  2013  \n",
       "7352        sky is clear 2013-07-01 09:00:00            4764      7  2013  \n",
       "7353        sky is clear 2013-07-01 10:00:00            4669      7  2013  \n",
       "7354        sky is clear 2013-07-01 11:00:00            4863      7  2013  "
      ]
     },
     "execution_count": 28,
     "metadata": {},
     "output_type": "execute_result"
    }
   ],
   "source": [
    "# Isolate only for July\n",
    "only_july = day[day['month'] == 7]\n",
    "\n",
    "only_july.head()"
   ]
  },
  {
   "cell_type": "code",
   "execution_count": 27,
   "id": "b94d79ab",
   "metadata": {},
   "outputs": [
    {
     "data": {
      "image/png": "[encoded data removed]",
      "text/plain": [
       "<Figure size 576x288 with 1 Axes>"
      ]
     },
     "metadata": {},
     "output_type": "display_data"
    }
   ],
   "source": [
    "# Plot average July traffic volume by year\n",
    "plt.figure(figsize=(8,4))\n",
    "only_july.groupby('year').mean()['traffic_volume'].plot.line(marker='o')\n",
    "plt.title('Average Hourly Traffic Volume in July')\n",
    "plt.xlabel('Year')\n",
    "plt.ylabel('Traffic Volume')\n",
    "plt.grid()\n",
    "plt.show()"
   ]
  },
  {
   "cell_type": "markdown",
   "id": "e786c639",
   "metadata": {},
   "source": [
    "#### Observations\n",
    "- Seems like there was a big drop in traffic in July of 2016. This could have be due to construction.\n",
    "- There is a sharp increase in traffic volume from months 1 to 3 as the weather gets warmer.\n",
    "- Average traffic volume stays relatively constant from months 3-10 with the exception of month 7 which we already stated why.\n",
    "- There is a sharp decline in months 11 and 12 as the weather starts to get cold again."
   ]
  },
  {
   "cell_type": "markdown",
   "id": "ca337e7b",
   "metadata": {},
   "source": [
    "### Traffic Volume by Day of Week"
   ]
  },
  {
   "cell_type": "code",
   "execution_count": 35,
   "id": "c41b59cb",
   "metadata": {},
   "outputs": [
    {
     "data": {
      "text/html": [
       "<div>\n",
       "<style scoped>\n",
       "    .dataframe tbody tr th:only-of-type {\n",
       "        vertical-align: middle;\n",
       "    }\n",
       "\n",
       "    .dataframe tbody tr th {\n",
       "        vertical-align: top;\n",
       "    }\n",
       "\n",
       "    .dataframe thead th {\n",
       "        text-align: right;\n",
       "    }\n",
       "</style>\n",
       "<table border=\"1\" class=\"dataframe\">\n",
       "  <thead>\n",
       "    <tr style=\"text-align: right;\">\n",
       "      <th></th>\n",
       "      <th>holiday</th>\n",
       "      <th>temp</th>\n",
       "      <th>rain_1h</th>\n",
       "      <th>snow_1h</th>\n",
       "      <th>clouds_all</th>\n",
       "      <th>weather_main</th>\n",
       "      <th>weather_description</th>\n",
       "      <th>date_time</th>\n",
       "      <th>traffic_volume</th>\n",
       "      <th>month</th>\n",
       "      <th>year</th>\n",
       "      <th>dayofweek</th>\n",
       "    </tr>\n",
       "  </thead>\n",
       "  <tbody>\n",
       "    <tr>\n",
       "      <th>0</th>\n",
       "      <td>None</td>\n",
       "      <td>288.28</td>\n",
       "      <td>0.0</td>\n",
       "      <td>0.0</td>\n",
       "      <td>40</td>\n",
       "      <td>Clouds</td>\n",
       "      <td>scattered clouds</td>\n",
       "      <td>2012-10-02 09:00:00</td>\n",
       "      <td>5545</td>\n",
       "      <td>10</td>\n",
       "      <td>2012</td>\n",
       "      <td>1</td>\n",
       "    </tr>\n",
       "    <tr>\n",
       "      <th>1</th>\n",
       "      <td>None</td>\n",
       "      <td>289.36</td>\n",
       "      <td>0.0</td>\n",
       "      <td>0.0</td>\n",
       "      <td>75</td>\n",
       "      <td>Clouds</td>\n",
       "      <td>broken clouds</td>\n",
       "      <td>2012-10-02 10:00:00</td>\n",
       "      <td>4516</td>\n",
       "      <td>10</td>\n",
       "      <td>2012</td>\n",
       "      <td>1</td>\n",
       "    </tr>\n",
       "    <tr>\n",
       "      <th>2</th>\n",
       "      <td>None</td>\n",
       "      <td>289.58</td>\n",
       "      <td>0.0</td>\n",
       "      <td>0.0</td>\n",
       "      <td>90</td>\n",
       "      <td>Clouds</td>\n",
       "      <td>overcast clouds</td>\n",
       "      <td>2012-10-02 11:00:00</td>\n",
       "      <td>4767</td>\n",
       "      <td>10</td>\n",
       "      <td>2012</td>\n",
       "      <td>1</td>\n",
       "    </tr>\n",
       "    <tr>\n",
       "      <th>3</th>\n",
       "      <td>None</td>\n",
       "      <td>290.13</td>\n",
       "      <td>0.0</td>\n",
       "      <td>0.0</td>\n",
       "      <td>90</td>\n",
       "      <td>Clouds</td>\n",
       "      <td>overcast clouds</td>\n",
       "      <td>2012-10-02 12:00:00</td>\n",
       "      <td>5026</td>\n",
       "      <td>10</td>\n",
       "      <td>2012</td>\n",
       "      <td>1</td>\n",
       "    </tr>\n",
       "    <tr>\n",
       "      <th>4</th>\n",
       "      <td>None</td>\n",
       "      <td>291.14</td>\n",
       "      <td>0.0</td>\n",
       "      <td>0.0</td>\n",
       "      <td>75</td>\n",
       "      <td>Clouds</td>\n",
       "      <td>broken clouds</td>\n",
       "      <td>2012-10-02 13:00:00</td>\n",
       "      <td>4918</td>\n",
       "      <td>10</td>\n",
       "      <td>2012</td>\n",
       "      <td>1</td>\n",
       "    </tr>\n",
       "  </tbody>\n",
       "</table>\n",
       "</div>"
      ],
      "text/plain": [
       "  holiday    temp  rain_1h  snow_1h  clouds_all weather_main  \\\n",
       "0    None  288.28      0.0      0.0          40       Clouds   \n",
       "1    None  289.36      0.0      0.0          75       Clouds   \n",
       "2    None  289.58      0.0      0.0          90       Clouds   \n",
       "3    None  290.13      0.0      0.0          90       Clouds   \n",
       "4    None  291.14      0.0      0.0          75       Clouds   \n",
       "\n",
       "  weather_description           date_time  traffic_volume  month  year  \\\n",
       "0    scattered clouds 2012-10-02 09:00:00            5545     10  2012   \n",
       "1       broken clouds 2012-10-02 10:00:00            4516     10  2012   \n",
       "2     overcast clouds 2012-10-02 11:00:00            4767     10  2012   \n",
       "3     overcast clouds 2012-10-02 12:00:00            5026     10  2012   \n",
       "4       broken clouds 2012-10-02 13:00:00            4918     10  2012   \n",
       "\n",
       "   dayofweek  \n",
       "0          1  \n",
       "1          1  \n",
       "2          1  \n",
       "3          1  \n",
       "4          1  "
      ]
     },
     "execution_count": 35,
     "metadata": {},
     "output_type": "execute_result"
    }
   ],
   "source": [
    "# Create a day of week column\n",
    "day['dayofweek'] = day['date_time'].dt.dayofweek\n",
    "\n",
    "day.head()"
   ]
  },
  {
   "cell_type": "markdown",
   "id": "f2db8bba",
   "metadata": {},
   "source": [
    "#### Notes\n",
    "* '0' is Monday and '6' is Sunday"
   ]
  },
  {
   "cell_type": "code",
   "execution_count": 36,
   "id": "c27df57f",
   "metadata": {},
   "outputs": [
    {
     "data": {
      "text/plain": [
       "dayofweek\n",
       "0    4893.551286\n",
       "1    5189.004782\n",
       "2    5284.454282\n",
       "3    5311.303730\n",
       "4    5291.600829\n",
       "5    3927.249558\n",
       "6    3436.541789\n",
       "Name: traffic_volume, dtype: float64"
      ]
     },
     "execution_count": 36,
     "metadata": {},
     "output_type": "execute_result"
    }
   ],
   "source": [
    "by_dayofweek = day.groupby('dayofweek').mean()\n",
    "\n",
    "# Average traffic volume by day of week\n",
    "by_dayofweek['traffic_volume']"
   ]
  },
  {
   "cell_type": "code",
   "execution_count": 37,
   "id": "77ee93a8",
   "metadata": {},
   "outputs": [
    {
     "data": {
      "image/png": "[encoded data removed]",
      "text/plain": [
       "<Figure size 576x288 with 1 Axes>"
      ]
     },
     "metadata": {},
     "output_type": "display_data"
    }
   ],
   "source": [
    "# Plot average traffic volume by day of week\n",
    "plt.figure(figsize=(8,4))\n",
    "by_dayofweek['traffic_volume'].plot(marker='o')\n",
    "plt.title('Average Hourly Traffic Volume by Day of Week')\n",
    "plt.xlabel('Day of Week')\n",
    "plt.xticks([0, 1, 2, 3, 4, 5, 6], ['Monday', 'Tuesday', 'Wednesday', 'Thursday', 'Friday', 'Saturday', 'Sunday'])\n",
    "plt.ylabel('Traffic Volume')\n",
    "plt.grid()\n",
    "plt.show()"
   ]
  },
  {
   "cell_type": "markdown",
   "id": "be8c8fe7",
   "metadata": {},
   "source": [
    "#### Observations\n",
    "- The average hourly traffic increases steadily between Monday to Thursday and drops off slightly on Friday.\n",
    "- There is a steep drop off in traffic volume on Saturday's and Sundays."
   ]
  },
  {
   "cell_type": "markdown",
   "id": "1a18528c",
   "metadata": {},
   "source": [
    "### Traffic Volume by Hour"
   ]
  },
  {
   "cell_type": "code",
   "execution_count": 38,
   "id": "d36e86c6",
   "metadata": {},
   "outputs": [],
   "source": [
    "# Create an hour column\n",
    "day['hour'] = day['date_time'].dt.hour"
   ]
  },
  {
   "cell_type": "code",
   "execution_count": 39,
   "id": "b1eef867",
   "metadata": {},
   "outputs": [],
   "source": [
    "# Create a seperate dataframe for Business Days\n",
    "business_days = day[day['dayofweek'] <=4]\n",
    "\n",
    "# Create a seperate dataframe for the Weekend\n",
    "weekend = day[day['dayofweek'] >=5]"
   ]
  },
  {
   "cell_type": "code",
   "execution_count": 40,
   "id": "a2d3ec75",
   "metadata": {},
   "outputs": [
    {
     "data": {
      "text/plain": [
       "hour\n",
       "7     6030.413559\n",
       "8     5503.497970\n",
       "9     4895.269257\n",
       "10    4378.419118\n",
       "11    4633.419470\n",
       "12    4855.382143\n",
       "13    4859.180473\n",
       "14    5152.995778\n",
       "15    5592.897768\n",
       "16    6189.473647\n",
       "17    5784.827133\n",
       "18    4434.209431\n",
       "Name: traffic_volume, dtype: float64"
      ]
     },
     "execution_count": 40,
     "metadata": {},
     "output_type": "execute_result"
    }
   ],
   "source": [
    "by_hour_business = business_days.groupby('hour').mean()\n",
    "\n",
    "# Hourly daytime traffic volume on businss days\n",
    "by_hour_business['traffic_volume']"
   ]
  },
  {
   "cell_type": "code",
   "execution_count": 41,
   "id": "6d6f8cfd",
   "metadata": {},
   "outputs": [
    {
     "data": {
      "text/plain": [
       "hour\n",
       "7     1589.365894\n",
       "8     2338.578073\n",
       "9     3111.623917\n",
       "10    3686.632302\n",
       "11    4044.154955\n",
       "12    4372.482883\n",
       "13    4362.296564\n",
       "14    4358.543796\n",
       "15    4342.456881\n",
       "16    4339.693805\n",
       "17    4151.919929\n",
       "18    3811.792279\n",
       "Name: traffic_volume, dtype: float64"
      ]
     },
     "execution_count": 41,
     "metadata": {},
     "output_type": "execute_result"
    }
   ],
   "source": [
    "by_hour_weekend = weekend.groupby('hour').mean()\n",
    "\n",
    "# Hourly daytime traffic volume on weekends\n",
    "by_hour_weekend['traffic_volume']"
   ]
  },
  {
   "cell_type": "markdown",
   "id": "a09ad45c",
   "metadata": {},
   "source": [
    "#### Observations\n",
    "- The busiest hour of traffic during the day on the weekend is still less busy then the least busiest hour of traffic during the weekday. \n",
    "- The busiest hour of traffic on the weekend is between 12 and 1 pm with an average of 4372 cars.\n",
    "- The slowest hour of traffic on busiess days is between 10 and 11 am with an average of 4378 cars."
   ]
  },
  {
   "cell_type": "code",
   "execution_count": 62,
   "id": "d690dddb",
   "metadata": {},
   "outputs": [
    {
     "data": {
      "image/png": "[encoded data removed]",
      "text/plain": [
       "<Figure size 864x288 with 2 Axes>"
      ]
     },
     "metadata": {},
     "output_type": "display_data"
    }
   ],
   "source": [
    "# Plot hourly business day data and weekend data side by side\n",
    "plt.figure(figsize=(12,4))\n",
    "\n",
    "plt.subplot(1, 2, 1)\n",
    "by_hour_business['traffic_volume'].plot.line(marker='o')\n",
    "plt.xlabel('Hour')\n",
    "plt.xlim(6,20)\n",
    "plt.xticks(np.arange(5,20,1))\n",
    "plt.ylabel('Traffic Volume')\n",
    "plt.ylim(1500,6500)\n",
    "plt.yticks(np.arange(1500, 6500, 500))\n",
    "plt.title('Traffic Volume By Hour: Business Days')\n",
    "plt.grid()\n",
    "\n",
    "plt.subplot(1, 2, 2)\n",
    "by_hour_weekend['traffic_volume'].plot.line(marker='o')\n",
    "plt.xlabel('Hour')\n",
    "plt.xlim(6,20)\n",
    "plt.xticks(np.arange(5,20,1))\n",
    "plt.ylim(1500,6500)\n",
    "plt.yticks(np.arange(1500, 6500, 500))\n",
    "plt.title('Traffic Volume By Hour: Weekend')\n",
    "plt.grid()\n",
    "\n",
    "plt.show()"
   ]
  },
  {
   "cell_type": "markdown",
   "id": "d4f15306",
   "metadata": {},
   "source": [
    "### Observations\n",
    "#### Business Days\n",
    "- The busiest hours of traffic on business days is between 7 and 8 am and between 4 and 5 pm which correspond to rush hours\n",
    "- Traffic volume decreases from 7 to 11 am\n",
    "- Traffic volume increases from 11 am to 5 pm where it reaches it's peak\n",
    "- Traffic volume decreases after 5 pm\n",
    "\n",
    "#### Weekend\n",
    "- Traffic volume on weekends is much lower than on business days\n",
    "- Traffic volume increases steadily each hour from 7 am to 12 pm where it reaches its peak\n",
    "- Traffic volume stays relatively consistent after 12 pm until 5 pm where it starts to drop again\n",
    "- The busiest hour of traffic on weekends is still less busy compared to the least busy hour on business days"
   ]
  },
  {
   "cell_type": "markdown",
   "id": "447b767d",
   "metadata": {},
   "source": [
    "### Correlation of weather and traffic volume"
   ]
  },
  {
   "cell_type": "code",
   "execution_count": 43,
   "id": "86c375d3",
   "metadata": {},
   "outputs": [
    {
     "data": {
      "text/plain": [
       "temp          0.128317\n",
       "rain_1h       0.003697\n",
       "snow_1h       0.001265\n",
       "year         -0.003557\n",
       "clouds_all   -0.032932\n",
       "Name: traffic_volume, dtype: float64"
      ]
     },
     "execution_count": 43,
     "metadata": {},
     "output_type": "execute_result"
    }
   ],
   "source": [
    "# Correlation of rain, snow and cloud coverage on traffic volume\n",
    "day.corr()['traffic_volume'].drop(['traffic_volume', 'hour', 'month', 'dayofweek']).sort_values(ascending=False)"
   ]
  },
  {
   "cell_type": "markdown",
   "id": "a390e826",
   "metadata": {},
   "source": [
    "#### Observations\n",
    "- No strong correlations between different weather types and traffic volume\n",
    "- Strongest correlation is with tempearture at only 0.13\n"
   ]
  },
  {
   "cell_type": "code",
   "execution_count": 45,
   "id": "2c1350b8",
   "metadata": {},
   "outputs": [],
   "source": [
    "# Convert temperature from kelvin to celsius\n",
    "day['temp'] = day['temp'] - 273.15"
   ]
  },
  {
   "cell_type": "code",
   "execution_count": 46,
   "id": "c10673d9",
   "metadata": {},
   "outputs": [
    {
     "data": {
      "image/png": "[encoded data removed]",
      "text/plain": [
       "<Figure size 432x288 with 1 Axes>"
      ]
     },
     "metadata": {},
     "output_type": "display_data"
    }
   ],
   "source": [
    "# Plot traffic volume against temperature\n",
    "plt.scatter(x=day['traffic_volume'], y=day['temp'])\n",
    "plt.xlabel('traffic_volume')\n",
    "plt.ylabel('temperature (in celsius)')\n",
    "plt.ylim(-50, 50)\n",
    "plt.show()"
   ]
  },
  {
   "cell_type": "markdown",
   "id": "cda1d5ee",
   "metadata": {},
   "source": [
    "#### Observations\n",
    "- Temperature is not a strong predictor of traffic volume"
   ]
  },
  {
   "cell_type": "markdown",
   "id": "483b9f63",
   "metadata": {},
   "source": [
    "### Categorical Weather Data\n",
    "Are there any weather types which lead to higher or lower traffic volume?"
   ]
  },
  {
   "cell_type": "markdown",
   "id": "fc9ea535",
   "metadata": {},
   "source": [
    "#### By Weather Type"
   ]
  },
  {
   "cell_type": "code",
   "execution_count": 48,
   "id": "80769469",
   "metadata": {},
   "outputs": [
    {
     "data": {
      "text/plain": [
       "Clouds          8702\n",
       "Clear           5744\n",
       "Rain            2841\n",
       "Mist            2593\n",
       "Snow            1454\n",
       "Drizzle          883\n",
       "Haze             834\n",
       "Thunderstorm     451\n",
       "Fog              362\n",
       "Smoke             12\n",
       "Squall             1\n",
       "Name: weather_main, dtype: int64"
      ]
     },
     "execution_count": 48,
     "metadata": {},
     "output_type": "execute_result"
    }
   ],
   "source": [
    "# How many occurenes of each weather type?\n",
    "day['weather_main'].value_counts()"
   ]
  },
  {
   "cell_type": "code",
   "execution_count": 47,
   "id": "b6dd5692",
   "metadata": {},
   "outputs": [
    {
     "data": {
      "text/plain": [
       "weather_main\n",
       "Clouds          4865.415996\n",
       "Drizzle         4837.212911\n",
       "Rain            4815.568462\n",
       "Clear           4778.416260\n",
       "Thunderstorm    4648.212860\n",
       "Mist            4623.976475\n",
       "Haze            4609.893285\n",
       "Smoke           4564.583333\n",
       "Snow            4396.321183\n",
       "Fog             4372.491713\n",
       "Squall          4211.000000\n",
       "Name: traffic_volume, dtype: float64"
      ]
     },
     "execution_count": 47,
     "metadata": {},
     "output_type": "execute_result"
    }
   ],
   "source": [
    "by_weather_main = day.groupby('weather_main').mean()\n",
    "\n",
    "# Average traffic volume by weather type\n",
    "by_weather_main['traffic_volume'].sort_values(ascending=False)"
   ]
  },
  {
   "cell_type": "code",
   "execution_count": 49,
   "id": "6504586f",
   "metadata": {},
   "outputs": [
    {
     "data": {
      "image/png": "[encoded data removed]",
      "text/plain": [
       "<Figure size 576x288 with 1 Axes>"
      ]
     },
     "metadata": {},
     "output_type": "display_data"
    }
   ],
   "source": [
    "# Plot average traffic volume by weather type\n",
    "plt.figure(figsize=(8,4))\n",
    "by_weather_main['traffic_volume'].plot(kind='barh')\n",
    "plt.title('Average Traffic Volume by Weather Type')\n",
    "plt.xlabel('Traffic Volume')\n",
    "plt.xticks(np.arange(0, 5500, 500))\n",
    "plt.grid(axis='x')\n",
    "plt.show()"
   ]
  },
  {
   "cell_type": "markdown",
   "id": "7e25a28f",
   "metadata": {},
   "source": [
    "#### Observations \n",
    "- Clear skies, cloudy, drizzle and rain tend to have higher traffic volume\n",
    "- More significant weather like squall, fog and snow tend to reduce the traffic volume"
   ]
  },
  {
   "cell_type": "markdown",
   "id": "7a79c224",
   "metadata": {},
   "source": [
    "#### By Weather Description"
   ]
  },
  {
   "cell_type": "code",
   "execution_count": 50,
   "id": "6f18ff27",
   "metadata": {},
   "outputs": [],
   "source": [
    "# Rename some weather descriptions\n",
    "day['weather_description'] = day['weather_description'].replace(['Sky is Clear', 'sky is clear'], 'sky is clear').replace('SQUALLS', 'squall')"
   ]
  },
  {
   "cell_type": "code",
   "execution_count": 52,
   "id": "c33b9c40",
   "metadata": {},
   "outputs": [
    {
     "data": {
      "text/plain": [
       "sky is clear                           5744\n",
       "broken clouds                          2793\n",
       "mist                                   2593\n",
       "overcast clouds                        2585\n",
       "scattered clouds                       2181\n",
       "light rain                             1707\n",
       "few clouds                             1143\n",
       "light snow                              978\n",
       "haze                                    834\n",
       "moderate rain                           785\n",
       "light intensity drizzle                 573\n",
       "fog                                     362\n",
       "heavy snow                              320\n",
       "proximity thunderstorm                  303\n",
       "drizzle                                 278\n",
       "heavy intensity rain                    219\n",
       "snow                                    137\n",
       "proximity shower rain                   111\n",
       "thunderstorm                             48\n",
       "heavy intensity drizzle                  29\n",
       "thunderstorm with heavy rain             25\n",
       "thunderstorm with light rain             23\n",
       "thunderstorm with rain                   20\n",
       "proximity thunderstorm with rain         18\n",
       "smoke                                    12\n",
       "light shower snow                        11\n",
       "light intensity shower rain              10\n",
       "very heavy rain                           7\n",
       "thunderstorm with light drizzle           6\n",
       "proximity thunderstorm with drizzle       6\n",
       "light rain and snow                       4\n",
       "sleet                                     3\n",
       "shower drizzle                            3\n",
       "thunderstorm with drizzle                 2\n",
       "freezing rain                             2\n",
       "squall                                    1\n",
       "shower snow                               1\n",
       "Name: weather_description, dtype: int64"
      ]
     },
     "execution_count": 52,
     "metadata": {},
     "output_type": "execute_result"
    }
   ],
   "source": [
    "# How many occurences of each weather description?\n",
    "day['weather_description'].value_counts()"
   ]
  },
  {
   "cell_type": "code",
   "execution_count": 53,
   "id": "49ba0377",
   "metadata": {},
   "outputs": [
    {
     "data": {
      "text/plain": [
       "weather_description\n",
       "shower snow                            5664.000000\n",
       "light rain and snow                    5579.750000\n",
       "proximity thunderstorm with drizzle    5121.833333\n",
       "thunderstorm with light drizzle        4960.000000\n",
       "scattered clouds                       4936.787712\n",
       "shower drizzle                         4932.666667\n",
       "proximity shower rain                  4901.756757\n",
       "light intensity drizzle                4890.164049\n",
       "overcast clouds                        4861.124952\n",
       "light rain                             4859.650849\n",
       "few clouds                             4839.818023\n",
       "broken clouds                          4824.130326\n",
       "very heavy rain                        4780.571429\n",
       "sky is clear                           4778.416260\n",
       "moderate rain                          4769.643312\n",
       "heavy intensity drizzle                4738.586207\n",
       "drizzle                                4737.330935\n",
       "thunderstorm                           4724.708333\n",
       "proximity thunderstorm                 4684.356436\n",
       "mist                                   4623.976475\n",
       "light shower snow                      4618.636364\n",
       "heavy intensity rain                   4610.356164\n",
       "haze                                   4609.893285\n",
       "smoke                                  4564.583333\n",
       "light intensity shower rain            4558.100000\n",
       "thunderstorm with heavy rain           4555.760000\n",
       "thunderstorm with rain                 4522.950000\n",
       "proximity thunderstorm with rain       4501.611111\n",
       "light snow                             4430.858896\n",
       "heavy snow                             4411.681250\n",
       "fog                                    4372.491713\n",
       "thunderstorm with light rain           4336.130435\n",
       "freezing rain                          4314.000000\n",
       "sleet                                  4312.666667\n",
       "squall                                 4211.000000\n",
       "snow                                   4054.065693\n",
       "thunderstorm with drizzle              2297.000000\n",
       "Name: traffic_volume, dtype: float64"
      ]
     },
     "execution_count": 53,
     "metadata": {},
     "output_type": "execute_result"
    }
   ],
   "source": [
    "by_weather_description = day.groupby('weather_description').mean()\n",
    "\n",
    "# Average traffic volume by weather description\n",
    "by_weather_description['traffic_volume'].sort_values(ascending=False)"
   ]
  },
  {
   "cell_type": "code",
   "execution_count": 54,
   "id": "fcc1208e",
   "metadata": {},
   "outputs": [
    {
     "data": {
      "image/png": "[encoded data removed]",
      "text/plain": [
       "<Figure size 432x576 with 1 Axes>"
      ]
     },
     "metadata": {},
     "output_type": "display_data"
    }
   ],
   "source": [
    "# Plot average traffic volume by weather description\n",
    "plt.figure(figsize=(6,8))\n",
    "by_weather_description['traffic_volume'].sort_index(ascending=False).plot(kind='barh')\n",
    "plt.title('Average Traffic Volume by Weather Description')\n",
    "plt.xlabel('Traffic Volume')\n",
    "plt.xticks(np.arange(0, 6000, 500))\n",
    "plt.grid(axis='x')\n",
    "plt.show()"
   ]
  },
  {
   "cell_type": "markdown",
   "id": "0e1878dd",
   "metadata": {},
   "source": [
    "#### Observations\n",
    "- \"Shower Snow\" only had 1 occurence while \"Light Rain and Snow\" only had 4 occurences so it is hard to say definitely that when these weather patterns occur, traffic volume increases. A larger sample size is required."
   ]
  },
  {
   "cell_type": "markdown",
   "id": "ac508e21",
   "metadata": {},
   "source": [
    "## Conclusion"
   ]
  },
  {
   "cell_type": "markdown",
   "id": "0b854075",
   "metadata": {},
   "source": [
    "* Traffic Volume is higher on business days compared to weekends\n",
    "* Traffic Volume is higher during the days compared to nights\n",
    "* Traffic Volume peaks during rush hours\n",
    "* Traffic Volume is higher in the warmer months compared to the colder months\n",
    "* Traffic Volume is generally higher with less inclement weather (like cloudy or rainy) compared to more inclement weather (like snow or fog)"
   ]
  }
 ],
 "metadata": {
  "kernelspec": {
   "display_name": "Python 3 (ipykernel)",
   "language": "python",
   "name": "python3"
  },
  "language_info": {
   "codemirror_mode": {
    "name": "ipython",
    "version": 3
   },
   "file_extension": ".py",
   "mimetype": "text/x-python",
   "name": "python",
   "nbconvert_exporter": "python",
   "pygments_lexer": "ipython3",
   "version": "3.9.7"
  }
 },
 "nbformat": 4,
 "nbformat_minor": 5
}
